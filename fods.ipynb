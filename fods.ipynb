{
 "cells": [
  {
   "cell_type": "markdown",
   "metadata": {},
   "source": [
    "### Loading data\n"
   ]
  },
  {
   "cell_type": "code",
   "execution_count": 275,
   "metadata": {},
   "outputs": [],
   "source": [
    "import numpy as np\n",
    "import pandas as pd\n",
    "data = pd.read_csv('Data.csv')\n",
    "# Loaded the dataset into a pandas DataFrame\n"
   ]
  },
  {
   "cell_type": "markdown",
   "metadata": {},
   "source": [
    "### Normalize the data\n"
   ]
  },
  {
   "cell_type": "code",
   "execution_count": 276,
   "metadata": {},
   "outputs": [
    {
     "name": "stdout",
     "output_type": "stream",
     "text": [
      "            X         Y\n",
      "296  1.725992  3.828413\n",
      "789  1.712142  5.170199\n",
      "748  1.137389  3.508773\n",
      "135  0.431065  0.686792\n",
      "387 -0.181774  0.030744\n",
      "..        ...       ...\n",
      "525 -0.372205  0.606695\n",
      "465 -1.708680 -1.907492\n",
      "342 -1.320894 -0.168041\n",
      "986  0.344506  0.853028\n",
      "90  -0.164463  1.459691\n",
      "\n",
      "[1000 rows x 2 columns]\n"
     ]
    }
   ],
   "source": [
    "data = pd.read_csv('Data.csv')\n",
    "X_mean , Y_mean = data.mean()\n",
    "X_std , Y_std = data.std()\n",
    "data['X']= (data['X'] - X_mean)/X_std\n",
    "shuffled_data = data.sample(frac=1)\n",
    "print(shuffled_data)\n"
   ]
  },
  {
   "cell_type": "markdown",
   "metadata": {},
   "source": [
    "### TEST TRAIN SPLIT"
   ]
  },
  {
   "cell_type": "code",
   "execution_count": 277,
   "metadata": {},
   "outputs": [],
   "source": [
    "split_ratio = 0.8\n",
    "row_no, col_no = shuffled_data.shape\n",
    "train_length = int(row_no*split_ratio)\n",
    "\n",
    "Train = shuffled_data[:train_length]\n",
    "Test = shuffled_data[train_length:]\n",
    "\n",
    "X_Train = Train['X'].values\n",
    "X_Test = Test['X'].values\n",
    "Y_Test = Test['Y'].values\n",
    "Y_Train = Train['Y'].values"
   ]
  },
  {
   "cell_type": "markdown",
   "metadata": {},
   "source": [
    "## Poly Reg"
   ]
  },
  {
   "cell_type": "code",
   "execution_count": 278,
   "metadata": {},
   "outputs": [],
   "source": [
    "import matplotlib.pyplot as plt\n",
    "def poly_transform(data: np.ndarray, degrees: int):\n",
    "    transform_data = np.ones((data.shape[0], 1))\n",
    "    for i in range(1, degrees + 1):\n",
    "        transformed_feature = data ** i\n",
    "        transform_data = np.insert(transform_data, i, transformed_feature, axis=1)\n",
    "    return transform_data"
   ]
  },
  {
   "cell_type": "code",
   "execution_count": 345,
   "metadata": {},
   "outputs": [
    {
     "name": "stdout",
     "output_type": "stream",
     "text": [
      "[1.2463029620903727, 1.5051930855432343, 0.8515242103631226, 0.8771256639163088, 0.8586399675019658, 0.8437095017153047, 0.8348799937665251, 0.8636872039954264, 1.5090871260488014e+223]\n"
     ]
    },
    {
     "data": {
      "image/png": "[encoded data removed]",
      "text/plain": [
       "<Figure size 640x480 with 1 Axes>"
      ]
     },
     "metadata": {},
     "output_type": "display_data"
    }
   ],
   "source": [
    "import numpy as np\n",
    "import matplotlib.pyplot as plt\n",
    "def bgd_regressor(train, test, learning_rate=0.0022, max_iters=500):\n",
    "    X = train\n",
    "    Y = test\n",
    "    W = np.zeros(train.shape[1])\n",
    "    n = len(train)\n",
    "    for _ in range(max_iters):\n",
    "        Y_pred = np.dot(X, W)\n",
    "        gradient = np.dot(X.T, Y_pred - Y)\n",
    "        change = (learning_rate / len(X)) * gradient\n",
    "        W -= change\n",
    "    return W\n",
    "\n",
    "def mean_squared_error(y_true, y_pred):\n",
    "    return np.mean((y_true - y_pred) ** 2)\n",
    "\n",
    "degrees = [1,2,3,4,5,6,7,8,9]\n",
    "output = []\n",
    "for i in degrees:\n",
    "    X_Train_poly = poly_transform(X_Train, i)\n",
    "    X_Test_poly = poly_transform(X_Test, i)\n",
    "    W = bgd_regressor(X_Train_poly, Y_Train)\n",
    "    Y_Test_pred = np.dot(X_Test_poly, W)\n",
    "    mse = mean_squared_error(Y_Test, Y_Test_pred)\n",
    "    output.append(mse)\n",
    "\n",
    "print(output)\n",
    "plt.plot(degrees, output)\n",
    "plt.show()"
   ]
  },
  {
   "cell_type": "markdown",
   "metadata": {},
   "source": [
    "## Task 2\n",
    " "
   ]
  },
  {
   "cell_type": "markdown",
   "metadata": {},
   "source": [
    "### Loading data\n"
   ]
  },
  {
   "cell_type": "code",
   "execution_count": 325,
   "metadata": {},
   "outputs": [],
   "source": [
    "import numpy as np\n",
    "import pandas as pd\n",
    "data = pd.read_csv('data2.csv')"
   ]
  },
  {
   "cell_type": "markdown",
   "metadata": {},
   "source": [
    "### Normalize the data"
   ]
  },
  {
   "cell_type": "code",
   "execution_count": 326,
   "metadata": {},
   "outputs": [
    {
     "name": "stdout",
     "output_type": "stream",
     "text": [
      "[[-4.95424837e-01 -1.24034923e+00  5.50000000e+01]\n",
      " [-3.93866527e-01  8.82157575e-02  2.50000000e+02]\n",
      " [-3.16222132e-01  2.10056740e-01  3.20000000e+02]\n",
      " [-4.20650111e-01 -1.62228560e-01  2.18000000e+02]\n",
      " [-1.40888969e+00 -1.50568259e+00  1.99000000e+01]\n",
      " [ 7.89277279e-01  1.25015401e+00  1.00000000e+03]\n",
      " [-7.77142408e-01 -5.29412437e-01  1.20000000e+02]\n",
      " [ 4.29518692e-01  1.81664933e+00  1.65000000e+03]\n",
      " [-1.04506628e-02  1.04028381e+00  9.50000000e+02]\n",
      " [ 5.59237093e-01 -1.08841567e-01  3.00000000e+02]\n",
      " [-7.22315386e-01 -5.29412437e-01  1.35000000e+02]\n",
      " [ 1.84746214e+00  1.05641854e+00  8.50000000e+02]\n",
      " [-6.05662147e-01 -3.51455792e-01  1.45000000e+02]\n",
      " [ 2.01868576e+00  1.15850634e+00  9.50000000e+02]\n",
      " [ 8.07311870e-01  1.74036525e+00  8.20000000e+02]\n",
      " [-1.57647373e+00 -1.92880417e+00  9.90000000e+00]\n",
      " [ 8.10274862e-01  4.25028367e-01  4.30000000e+02]\n",
      " [-3.23314649e-01  1.29264424e-01  3.00000000e+02]\n",
      " [-6.67488364e-01 -5.29412437e-01  1.30000000e+02]\n",
      " [ 2.11513466e+00  1.12042361e+00  9.20000000e+02]\n",
      " [ 4.13653851e-01  1.27210199e+00  5.40000000e+02]\n",
      " [ 1.52855551e+00  5.11693253e-01  6.20000000e+02]\n",
      " [ 9.91567201e-02 -5.97391875e-01  1.70000000e+02]\n",
      " [-1.26988569e+00 -1.43449993e+00  3.20000000e+01]\n",
      " [ 5.94699678e-01 -2.35783973e-01  2.42000000e+02]\n",
      " [-8.74571193e-01 -6.50067042e-01  1.00000000e+02]\n",
      " [-1.63291057e+00 -1.93230398e+00  7.50000000e+00]\n",
      " [-7.07990368e-01 -1.96259691e-02  3.00000000e+02]\n",
      " [ 1.21517825e+00  5.10744150e-01  5.00000000e+02]\n",
      " [-6.25866488e-01 -2.35902611e-01  3.00000000e+02]\n",
      " [ 1.46751241e-01  1.02414907e+00  1.60000000e+03]\n",
      " [ 2.12612339e+00  1.11194101e+00  9.55000000e+02]\n",
      " [ 2.25476858e+00  1.38201988e+00  9.75000000e+02]\n",
      " [ 2.47073027e-01  9.49407279e-01  5.14000000e+02]\n",
      " [ 7.95529893e-01  1.80620920e+00  1.01500000e+03]\n",
      " [ 1.72432298e+00  9.92116874e-01  7.20000000e+02]\n",
      " [ 1.11711954e+00 -2.93542656e-02  5.00000000e+02]\n",
      " [ 1.63841953e+00  5.65258203e-01  6.85000000e+02]\n",
      " [ 3.82180807e-01  1.37816415e+00  7.00000000e+02]\n",
      " [-1.51181130e-01  4.26985890e-01  3.00000000e+02]\n",
      " [-3.94519785e-01 -5.63443567e-02  4.56000000e+02]\n",
      " [ 1.28384035e+00  7.77145247e-01  6.50000000e+02]\n",
      " [-1.02155427e+00 -1.05936732e+00  5.15000000e+01]\n",
      " [ 1.46751241e-01  1.02414907e+00  1.55000000e+03]\n",
      " [-6.03562389e-01 -5.24073737e-01  1.30000000e+02]\n",
      " [-1.02258082e+00 -8.75538110e-01  7.00000000e+01]\n",
      " [-7.12399861e-01 -6.58431004e-01  1.15000000e+02]\n",
      " [-5.62267143e-01 -1.05875623e-01  1.97000000e+02]\n",
      " [-8.79983903e-01 -7.67637065e-01  7.80000000e+01]\n",
      " [-4.39641258e-01 -3.03407498e-01  1.80000000e+02]\n",
      " [-1.37789338e-01 -1.00774199e-01  2.70000000e+02]\n",
      " [-7.61324229e-01 -1.53923917e-01  3.00000000e+02]\n",
      " [ 5.04876684e-01  1.31243883e+00  8.20000000e+02]\n",
      " [ 6.50973200e-01  1.27898298e+00  8.00000000e+02]\n",
      " [-1.60024766e+00 -1.78519316e+00  5.90000000e+00]\n",
      " [ 1.72390303e+00  9.70287525e-01  7.25000000e+02]\n",
      " [-2.19760028e-02  4.70484537e-02  2.90000000e+02]\n",
      " [-3.91486801e-01 -4.11961051e-01  2.25000000e+02]\n",
      " [-5.58487578e-01 -1.24764545e+00  6.00000000e+01]\n",
      " [-1.42274809e+00 -1.39416309e+00  1.97000000e+01]\n",
      " [-8.56863231e-01 -9.46602130e-01  6.90000000e+01]\n",
      " [ 2.28248539e+00  1.38344354e+00  9.25000000e+02]\n",
      " [-6.28992795e-01 -4.10774674e-01  1.70000000e+02]\n",
      " [ 1.19920997e-01  5.56123095e-01  3.90000000e+02]\n",
      " [-6.67488364e-01 -5.99112122e-01  1.20000000e+02]\n",
      " [-6.00762711e-01 -2.61291092e-01  3.45000000e+02]\n",
      " [-6.54026580e-01 -6.06111750e-01  1.10000000e+02]\n",
      " [-7.82601779e-01 -7.37265797e-01  8.70000000e+01]\n",
      " [ 1.50879445e+00  6.89590578e-01  6.00000000e+02]\n",
      " [-3.65309815e-01 -1.03480931e+00  9.00000000e+01]\n",
      " [-7.93940474e-01 -6.18034846e-01  2.00000000e+02]\n",
      " [-1.56175209e+00 -1.87547650e+00  1.22000000e+01]\n",
      " [-5.82284838e-01 -6.32271377e-01  0.00000000e+00]\n",
      " [ 1.76053214e+00  8.50641341e-01  7.14000000e+02]\n",
      " [ 1.39596744e+00  4.46857715e-01  6.00000000e+02]\n",
      " [ 2.99916944e-01  1.16859055e+00  5.56000000e+02]\n",
      " [ 1.39214122e+00  4.62695856e-01  7.00000000e+02]\n",
      " [ 8.47603899e-01  2.20934032e+00  1.00000000e+03]\n",
      " [-7.26748209e-01 -4.70686744e-01  1.30000000e+02]\n",
      " [-9.40210429e-02  2.11243118e-01  2.72000000e+02]\n",
      " [-2.68440965e-01 -1.26518594e-01  2.50000000e+02]\n",
      " [-1.68731764e+00 -1.99897841e+00  6.70000000e+00]\n",
      " [-2.75066869e-01  2.68426520e-01  5.67000000e+02]\n",
      " [ 8.93378630e-01  1.45385505e+00  1.10000000e+03]\n",
      " [-4.69177858e-01  2.83849429e-01  5.00000000e+02]\n",
      " [ 6.91008591e-01  1.69635064e+00  1.00000000e+03]\n",
      " [ 6.43694038e-01  1.66538618e+00  9.00000000e+02]\n",
      " [-7.38763492e-01 -3.93334923e-01  1.50000000e+02]\n",
      " [ 1.43658610e+00  6.83362096e-01  5.75000000e+02]\n",
      " [-1.12542232e+00 -1.27505078e+00  4.00000000e+01]\n",
      " [-1.60528708e+00 -1.79373508e+00  1.22000000e+01]\n",
      " [-1.58064992e+00 -1.80180244e+00  9.70000000e+00]\n",
      " [ 5.05249974e-01  9.40509447e-01  6.50000000e+02]\n",
      " [-5.64833514e-01 -6.48050200e-01  1.40000000e+02]\n",
      " [ 1.37403663e+00  5.14837153e-01  7.00000000e+02]\n",
      " [ 3.73455145e-01  1.15619290e+00  6.90000000e+02]\n",
      " [-3.35166618e-01 -3.45405266e-01  1.69000000e+02]\n",
      " [ 8.63002126e-01  1.61652533e-01  3.90000000e+02]\n",
      " [-6.42757877e-01 -5.00227547e-01  1.20000000e+02]\n",
      " [-1.82430992e-02 -6.67150880e-01  1.50000000e+02]\n",
      " [ 1.25994977e+00  2.35563859e-01  5.00000000e+02]\n",
      " [ 1.15297875e+00  3.88725211e-01  3.40000000e+02]\n",
      " [ 4.45616839e-01  1.45124502e+00  6.85000000e+02]\n",
      " [-5.99829485e-01 -3.66285513e-01  1.60000000e+02]\n",
      " [-6.66415154e-01 -6.66261096e-01  1.20000000e+02]\n",
      " [-9.07327422e-01 -9.76083614e-01  8.50000000e+01]\n",
      " [-8.75481088e-01 -4.69500366e-01  1.50000000e+02]\n",
      " [ 1.78574245e-01 -7.47646602e-01  1.45000000e+02]\n",
      " [-7.92167345e-01 -8.97545415e-01  7.80000000e+01]\n",
      " [-2.76466708e-01  4.22418336e-01  5.40000000e+02]\n",
      " [ 8.18673896e-01 -6.63692477e-02  2.90000000e+02]\n",
      " [ 4.93911279e-01 -1.62228560e-01  2.73000000e+02]\n",
      " [ 3.20751212e-01 -4.47196467e-01  2.00000000e+02]\n",
      " [ 7.94829974e-01  1.65270985e-01  3.40000000e+02]\n",
      " [-1.52605620e+00 -1.86764640e+00  1.34000000e+01]\n",
      " [ 1.17444294e+00  2.52884973e-01  4.50000000e+02]\n",
      " [ 5.87327193e-01  2.00391904e+00  8.40000000e+02]\n",
      " [-1.68974402e+00 -1.93918497e+00  7.00000000e+00]\n",
      " [-3.67269589e-01 -1.72194132e-01  2.00000000e+02]\n",
      " [-4.50266827e-02  1.56669747e-01  3.06000000e+02]\n",
      " [-1.60696689e+00 -1.86278226e+00  9.80000000e+00]\n",
      " [ 1.23461268e+00  4.07351340e-01  4.75000000e+02]\n",
      " [ 8.26256356e-01  1.77898184e+00  1.10000000e+03]\n",
      " [-3.92186721e-01  9.43256023e-02  4.30000000e+02]\n",
      " [-1.57869014e+00 -1.93918497e+00  9.80000000e+00]\n",
      " [-1.35036322e-01 -8.89418729e-01  1.20000000e+02]\n",
      " [-4.47806985e-01 -4.89294965e-02  2.65000000e+02]\n",
      " [ 1.51593363e+00  1.01620034e+00  6.80000000e+02]\n",
      " [ 5.05249974e-01  1.82459806e+00  9.00000000e+02]\n",
      " [-5.08373346e-01 -4.70686744e-01  1.50000000e+02]\n",
      " [ 2.32979995e+00  1.29642274e+00  1.00000000e+03]\n",
      " [-1.01113560e-01 -6.66201777e-01  1.40000000e+02]\n",
      " [-8.04555919e-01 -2.50613694e-01  1.10000000e+02]\n",
      " [-5.45259100e-01 -5.15887732e-01  1.45000000e+02]\n",
      " [ 4.00192068e-01  1.52296154e+00  1.25000000e+03]\n",
      " [-5.90613879e-01 -4.35392010e-01  1.80000000e+02]\n",
      " [-7.78122295e-01 -8.11058486e-01  8.00000000e+01]\n",
      " [-4.52053163e-01 -3.54243780e-01  1.60000000e+02]\n",
      " [-7.64893818e-01 -4.44883031e-01  1.25000000e+02]\n",
      " [-3.01197195e-01  5.68580060e-01  7.70000000e+02]\n",
      " [ 8.20726993e-01  1.88534059e+00  1.00000000e+03]\n",
      " [ 1.69602290e+00  6.94929278e-01  7.00000000e+02]\n",
      " [-8.94355582e-01 -8.19007216e-01  8.50000000e+01]\n",
      " [-1.20082697e+00 -1.17776781e+00  4.00000000e+01]\n",
      " [ 4.34884741e-01  1.09568764e+00  7.00000000e+02]\n",
      " [-1.92616360e-01 -1.00240329e-01  2.70000000e+02]\n",
      " [-5.00674233e-01  2.46259165e-02  5.10000000e+02]\n",
      " [-4.79606658e-01 -4.66415785e-01  1.61000000e+02]\n",
      " [ 1.08053709e+00  3.02475557e-01  4.50000000e+02]\n",
      " [ 8.77000515e-01  2.25497557e-02  3.63000000e+02]\n",
      " [ 6.90028704e-01  1.59503399e+00  8.50000000e+02]\n",
      " [-4.20836756e-01 -4.89294965e-02  2.60000000e+02]\n",
      " [ 1.55428922e+00  4.24909729e-01  6.10000000e+02]\n",
      " [-7.04070819e-01 -4.67127611e-01  1.45000000e+02]\n",
      " [-7.64893818e-01 -5.11616772e-01  1.10000000e+02]\n",
      " [-1.57647373e+00 -1.85886721e+00  1.00000000e+01]\n",
      " [ 1.22616699e+00  3.21457600e-01  5.00000000e+02]\n",
      " [-5.22045106e-01 -1.49297044e-01  1.88000000e+02]\n",
      " [-1.63146407e+00 -1.85803674e+00  8.70000000e+00]]\n"
     ]
    }
   ],
   "source": [
    "data = pd.read_csv('data2.csv')\n",
    "Height_mean , Width_mean , Weight_mean = data.mean()\n",
    "Height_std , Width_std , Weight_std = data.std()\n",
    "data['Height'] = (data['Height'] - Height_mean)/ Height_std\n",
    "data['Width'] = (data['Width'] - Width_mean)/ Width_std\n",
    "data = np.array(data)\n",
    "np.random.shuffle(data)\n",
    "print(data)"
   ]
  },
  {
   "cell_type": "markdown",
   "metadata": {},
   "source": [
    "## Split Data"
   ]
  },
  {
   "cell_type": "code",
   "execution_count": 346,
   "metadata": {},
   "outputs": [
    {
     "name": "stdout",
     "output_type": "stream",
     "text": [
      "(32, 3)\n"
     ]
    }
   ],
   "source": [
    "n, m = data.shape\n",
    "split_ratio = 0.8\n",
    "Train_2 = data[:int(0.8*n),:]\n",
    "Test_2 = data[int(0.8*n):,:]\n",
    "X = Train_2[:,:-1]\n",
    "Y = Train_2[:,-1]\n",
    "X_Test = Test_2[:,:-1]\n",
    "Y_Test = Test_2[:,-1]"
   ]
  },
  {
   "cell_type": "code",
   "execution_count": 328,
   "metadata": {},
   "outputs": [],
   "source": [
    "import matplotlib.pyplot as plt\n",
    "def poly_transform_2(data: np.ndarray, degrees: int):\n",
    "    transform_data = np.ones((data.shape[0], 1))\n",
    "    for i in range(1, degrees + 1):\n",
    "        transformed_feature = data ** i\n",
    "        transform_data = np.concatenate((transform_data,transformed_feature), axis=1)\n",
    "    return transform_data"
   ]
  },
  {
   "cell_type": "markdown",
   "metadata": {},
   "source": [
    "## Regression with 0.5"
   ]
  },
  {
   "cell_type": "code",
   "execution_count": 329,
   "metadata": {},
   "outputs": [
    {
     "name": "stdout",
     "output_type": "stream",
     "text": [
      "[23.23698099  6.86254272 11.0774565  14.6056029  18.63305748  9.31936418\n",
      " 14.38443231 18.90613243 32.01236269  6.37749563 15.85132381]\n",
      "123395.86883024112\n",
      "[  39.94867096   23.75905792   25.75278161   21.40123882   73.91331528\n",
      "  249.29755121   26.51809129  860.50318758  127.85156207   34.47137114\n",
      "   25.3598024   612.21386838   22.57940367  851.98081773  751.7282267\n",
      "   31.522316     64.16478528   24.19791558   24.37916124  974.14048546\n",
      "  240.35728967  272.78993695   23.90855108   66.35599497   35.60579307\n",
      "   30.56829254   34.43969006   25.79758593  143.15424844   22.98927329\n",
      "  124.01647788  987.83296516 1365.69714518  103.89966849  863.23113606\n",
      "  480.26106396  102.35307574  345.20900881  311.5701822    33.04635646\n",
      "   22.06041748  192.23185379   46.27166175  124.01647788   23.39466336\n",
      "   40.65526855   26.82394404   22.8932864    32.98978816   21.03566942\n",
      "   21.61213532   25.78651033  268.91933275  255.25589896   64.0203529\n",
      "  473.72913561   23.65721      20.94218189   40.72451531   75.73183577\n",
      "   37.12815299 1420.70026678   23.03397258   42.5924438    25.15910892\n",
      "   22.57958807   25.03705173   29.76662442  277.6193611    32.96916424\n",
      "   27.94778171   43.99054616   24.42317278  476.5106918   203.74941696\n",
      "  182.61772901  202.94451278 1925.4537588    24.98680816   26.09207388\n",
      "   21.23160355   17.11134426   27.14118326  409.0179522    28.25255789\n",
      "  673.71258006  626.02884972   24.87636782  240.61990132   57.08608692\n",
      "   62.98869445   59.93599329  108.65693792   24.46487242  198.46953191\n",
      "  178.64069563   20.62011594   61.9289894    23.74139072   23.99511617\n",
      "  145.54535388  120.09300924  374.19998508   22.52385145   26.14616\n",
      "   39.54159493   28.60846819   27.42300527   33.99841723   32.68014518\n",
      "   53.9390619    31.27721742   25.95297874   54.59762573   43.30327303\n",
      "  121.13095677 1278.12138571   36.36292894   21.12368855   25.2257776\n",
      "   49.94847448  143.36638774  818.13234211   23.84340981   28.73812517\n",
      "   28.53667038   22.4024053 ]\n",
      "[  55.   250.   320.   218.    19.9 1000.   120.  1650.   950.   300.\n",
      "  135.   850.   145.   950.   820.     9.9  430.   300.   130.   920.\n",
      "  540.   620.   170.    32.   242.   100.     7.5  300.   500.   300.\n",
      " 1600.   955.   975.   514.  1015.   720.   500.   685.   700.   300.\n",
      "  456.   650.    51.5 1550.   130.    70.   115.   197.    78.   180.\n",
      "  270.   300.   820.   800.     5.9  725.   290.   225.    60.    19.7\n",
      "   69.   925.   170.   390.   120.   345.   110.    87.   600.    90.\n",
      "  200.    12.2    0.   714.   600.   556.   700.  1000.   130.   272.\n",
      "  250.     6.7  567.  1100.   500.  1000.   900.   150.   575.    40.\n",
      "   12.2    9.7  650.   140.   700.   690.   169.   390.   120.   150.\n",
      "  500.   340.   685.   160.   120.    85.   150.   145.    78.   540.\n",
      "  290.   273.   200.   340.    13.4  450.   840.     7.   200.   306.\n",
      "    9.8  475.  1100.   430.     9.8  120.   265. ]\n"
     ]
    }
   ],
   "source": [
    "def half_reg(X:np.ndarray, Y:np.ndarray,max_iter = 500 ,penalty = 0.07, learning_rate = 0.00018):\n",
    "    n, m = X.shape\n",
    "    W = np.zeros(X.shape[1])\n",
    "    for _ in range(max_iter):\n",
    "        Y_pred = np.dot(X,W)\n",
    "        flag = True\n",
    "        for iW in W:\n",
    "            if iW == 0.0:\n",
    "                flag = False\n",
    "        if flag == False:\n",
    "            grad = 1/n*np.dot(X.T, Y_pred-Y)\n",
    "        else:\n",
    "            grad = 1/n*np.dot(X.T, Y_pred-Y) + penalty*0.5*W**-0.5\n",
    "        W -= learning_rate*grad\n",
    "        learning_rate /=1.000005\n",
    "    return W\n",
    "\n",
    "def mean_squared_error(y_true, y_pred):\n",
    "    return np.mean((y_true - y_pred) ** 2)\n",
    "\n",
    "\n",
    "X_trans = poly_transform_2(X,5)\n",
    "W_half = half_reg(X_trans,Y)\n",
    "print(W_half)\n",
    "y_pred = np.dot(X_trans, W_half)\n",
    "mse = mean_squared_error(Y, y_pred)\n",
    "print(mse)\n",
    "print(y_pred)\n",
    "print(Y)"
   ]
  },
  {
   "cell_type": "code",
   "execution_count": 343,
   "metadata": {},
   "outputs": [
    {
     "name": "stdout",
     "output_type": "stream",
     "text": [
      "[328.58112533  53.34018185 307.74259087  -2.47400611  69.48164358\n",
      "   4.52773088 -19.63866065]\n",
      "22128.003753290723\n"
     ]
    }
   ],
   "source": [
    "def one_deg(X: np.ndarray,Y: np.ndarray, learning_rate = 0.003, l1_penalty = 0.9, max_iters = 5000):\n",
    "  W = np.zeros(X.shape[1])\n",
    "  n = len(X)\n",
    "  for _ in range(max_iters):\n",
    "    Y_pred = np.dot(X, W)\n",
    "    gradient = (1/n)*np.dot(X.T, Y_pred-Y) + l1_penalty*np.sign(W)\n",
    "    change = learning_rate*gradient\n",
    "    W -= change\n",
    "  return W\n",
    "\n",
    "def mean_squared_error_one_deg(y_true, y_pred):\n",
    "    return np.mean((y_true - y_pred) ** 2)\n",
    "\n",
    "X_transformed = poly_transform_2(X,3)\n",
    "W_one = one_deg(X_transformed, Y)\n",
    "W_one\n",
    "print(W_one)\n",
    "Y_pred_one_deg = np.dot(X_transformed, W_one)\n",
    "\n",
    "mse_one = mean_squared_error_one_deg(Y, Y_pred_one_deg)\n",
    "print(mse_one)"
   ]
  }
 ],
 "metadata": {
  "kernelspec": {
   "display_name": "Python 3",
   "language": "python",
   "name": "python3"
  },
  "language_info": {
   "codemirror_mode": {
    "name": "ipython",
    "version": 3
   },
   "file_extension": ".py",
   "mimetype": "text/x-python",
   "name": "python",
   "nbconvert_exporter": "python",
   "pygments_lexer": "ipython3",
   "version": "3.11.4"
  },
  "orig_nbformat": 4
 },
 "nbformat": 4,
 "nbformat_minor": 2
}
